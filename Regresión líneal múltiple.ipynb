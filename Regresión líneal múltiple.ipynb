{
 "cells": [
  {
   "cell_type": "code",
   "execution_count": 55,
   "metadata": {},
   "outputs": [],
   "source": [
    "#Importación de las librerias básicas\n",
    "import pandas as pd\n",
    "import numpy as np\n",
    "import seaborn as sns\n",
    "import matplotlib.pyplot as plt\n",
    "from sklearn.linear_model import LinearRegression\n",
    "from sklearn.metrics import mean_squared_error"
   ]
  },
  {
   "cell_type": "code",
   "execution_count": 56,
   "metadata": {},
   "outputs": [],
   "source": [
    "#Estilo de graficación\n",
    "sns.set_style('darkgrid')"
   ]
  },
  {
   "cell_type": "code",
   "execution_count": 57,
   "metadata": {},
   "outputs": [],
   "source": [
    "#Lectura de datos del archivo\n",
    "datos = pd.read_csv('Libro1.csv')"
   ]
  },
  {
   "cell_type": "code",
   "execution_count": 58,
   "metadata": {},
   "outputs": [],
   "source": [
    "#Ver las variables que quisiera visualizar\n",
    "nuevo = datos[['Ano', 'Precio del producto']]"
   ]
  },
  {
   "cell_type": "code",
   "execution_count": 59,
   "metadata": {},
   "outputs": [
    {
     "data": {
      "text/html": [
       "<div>\n",
       "<style scoped>\n",
       "    .dataframe tbody tr th:only-of-type {\n",
       "        vertical-align: middle;\n",
       "    }\n",
       "\n",
       "    .dataframe tbody tr th {\n",
       "        vertical-align: top;\n",
       "    }\n",
       "\n",
       "    .dataframe thead th {\n",
       "        text-align: right;\n",
       "    }\n",
       "</style>\n",
       "<table border=\"1\" class=\"dataframe\">\n",
       "  <thead>\n",
       "    <tr style=\"text-align: right;\">\n",
       "      <th></th>\n",
       "      <th>Ano</th>\n",
       "      <th>Precio del producto</th>\n",
       "    </tr>\n",
       "  </thead>\n",
       "  <tbody>\n",
       "    <tr>\n",
       "      <th>0</th>\n",
       "      <td>1</td>\n",
       "      <td>0.95</td>\n",
       "    </tr>\n",
       "    <tr>\n",
       "      <th>1</th>\n",
       "      <td>2</td>\n",
       "      <td>0.93</td>\n",
       "    </tr>\n",
       "    <tr>\n",
       "      <th>2</th>\n",
       "      <td>3</td>\n",
       "      <td>0.92</td>\n",
       "    </tr>\n",
       "    <tr>\n",
       "      <th>3</th>\n",
       "      <td>4</td>\n",
       "      <td>0.90</td>\n",
       "    </tr>\n",
       "    <tr>\n",
       "      <th>4</th>\n",
       "      <td>5</td>\n",
       "      <td>0.87</td>\n",
       "    </tr>\n",
       "    <tr>\n",
       "      <th>5</th>\n",
       "      <td>6</td>\n",
       "      <td>0.86</td>\n",
       "    </tr>\n",
       "  </tbody>\n",
       "</table>\n",
       "</div>"
      ],
      "text/plain": [
       "   Ano  Precio del producto\n",
       "0    1                 0.95\n",
       "1    2                 0.93\n",
       "2    3                 0.92\n",
       "3    4                 0.90\n",
       "4    5                 0.87\n",
       "5    6                 0.86"
      ]
     },
     "execution_count": 59,
     "metadata": {},
     "output_type": "execute_result"
    }
   ],
   "source": [
    "#Ver datos de la variable nuevo\n",
    "nuevo"
   ]
  },
  {
   "cell_type": "code",
   "execution_count": 60,
   "metadata": {},
   "outputs": [
    {
     "data": {
      "image/png": "[encoded data removed]",
      "text/plain": [
       "<Figure size 454.5x360 with 6 Axes>"
      ]
     },
     "metadata": {},
     "output_type": "display_data"
    }
   ],
   "source": [
    "#Dar nombre a la grafica\n",
    "g = sns.pairplot(nuevo, hue = 'Precio del producto', diag_kind='hist')\n",
    "#Ciclo for para visualizar las graficas\n",
    "for ax in g.axes.flat:\n",
    "    plt.setp(ax.get_xticklabels(), rotation = 45)"
   ]
  },
  {
   "cell_type": "code",
   "execution_count": 64,
   "metadata": {},
   "outputs": [],
   "source": [
    "#Remplazar los tipos de datos 'nan' con un cero\n",
    "#datos = datos.replace(np.nan, '0')\n",
    "#Tomar los valores de la variable independiente y dependiente\n",
    "#Variable dependiente\n",
    "ganancias = datos['Ganancias en millones de $'].values\n",
    "#Variables independientes\n",
    "vendedores = datos['N. de vendedores'].values\n",
    "precio = datos['Precio del producto'].values\n",
    "#vendedores.astype(float)"
   ]
  },
  {
   "cell_type": "code",
   "execution_count": 65,
   "metadata": {},
   "outputs": [],
   "source": [
    "#Arreglos para el uso de regresión lineal múltiple\n",
    "y = np.array(ganancias)\n",
    "#De las variables independientes se utiliza matriz transpuesta\n",
    "x = np.array([vendedores, precio]).T \n"
   ]
  },
  {
   "cell_type": "code",
   "execution_count": 69,
   "metadata": {},
   "outputs": [
    {
     "name": "stdout",
     "output_type": "stream",
     "text": [
      "El error es de:  0.26060358788683746\n",
      "El valor del coeficiente de correlación es de:  0.972295611550122\n",
      "Los valores para B0, B1 Y B2 son:  [  0.36140351 -29.18128655]\n",
      "Ganacias de predicción: \n",
      " [5.35672515]\n"
     ]
    }
   ],
   "source": [
    "#Uso del modelo de regresión lineal\n",
    "reg = LinearRegression()\n",
    "#Ajuste del modelo de regresión\n",
    "reg = reg.fit(x,y)\n",
    "#Modelo de predicción\n",
    "y_predict = reg.predict(x)\n",
    "#Error\n",
    "error = np.sqrt(mean_squared_error(y,y_predict))\n",
    "#Coeficiente de correlación\n",
    "r2 = reg.score(x,y)\n",
    "#Coeficientes para B0, B1 Y B2\n",
    "#coeficientes = reg.coef_\n",
    "#Impresión de los resultados\n",
    "print(\"El error es de: \", error)\n",
    "print(\"El valor del coeficiente de correlación es de: \", r2)\n",
    "print(\"Los valores para B0, B1 Y B2 son: \", reg.coef_)\n",
    "y_predict\n",
    "\n",
    "#vendedores = 22\n",
    "#precio = 0.77\n",
    "#Predicción para ciertos valores\n",
    "print(\"Ganacias de predicción: \\n\", reg.predict([[22,0.77]]))"
   ]
  },
  {
   "cell_type": "code",
   "execution_count": null,
   "metadata": {},
   "outputs": [],
   "source": []
  }
 ],
 "metadata": {
  "kernelspec": {
   "display_name": "Python 3",
   "language": "python",
   "name": "python3"
  },
  "language_info": {
   "codemirror_mode": {
    "name": "ipython",
    "version": 3
   },
   "file_extension": ".py",
   "mimetype": "text/x-python",
   "name": "python",
   "nbconvert_exporter": "python",
   "pygments_lexer": "ipython3",
   "version": "3.6.5"
  }
 },
 "nbformat": 4,
 "nbformat_minor": 2
}
