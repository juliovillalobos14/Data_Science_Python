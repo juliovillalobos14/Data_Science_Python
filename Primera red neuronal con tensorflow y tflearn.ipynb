{
 "cells": [
  {
   "cell_type": "code",
   "execution_count": 12,
   "metadata": {},
   "outputs": [],
   "source": [
    "#Importación de las librerías a usar para la creación de la red neuronal\n",
    "#Las más importantes 'tensorflow' y 'tflearn'\n",
    "import numpy as np\n",
    "import tensorflow as tf\n",
    "import tflearn\n",
    "import tflearn.datasets.mnist as mnist"
   ]
  },
  {
   "cell_type": "code",
   "execution_count": 13,
   "metadata": {},
   "outputs": [
    {
     "name": "stdout",
     "output_type": "stream",
     "text": [
      "Extracting mnist/train-images-idx3-ubyte.gz\n",
      "Extracting mnist/train-labels-idx1-ubyte.gz\n",
      "Extracting mnist/t10k-images-idx3-ubyte.gz\n",
      "Extracting mnist/t10k-labels-idx1-ubyte.gz\n"
     ]
    }
   ],
   "source": [
    "# 'trainx y trainy' van a llevar las etiquetas y clasificaciones para entrenar el algoritmo\n",
    "# 'testx y testy' van a llevar las etiquetas y las clases para hacer testing\n",
    "trainx, trainy, testx, testy = mnist.load_data(one_hot = True)"
   ]
  },
  {
   "cell_type": "code",
   "execution_count": 14,
   "metadata": {},
   "outputs": [],
   "source": [
    "#El número de entradas que se van a tener de 28 x 28\n",
    "#La primera capa tendra 128 neuronas y la segunda también\n",
    "#Habrá 10 clases\n",
    "\n",
    "entradas = 784\n",
    "capa1 = 128\n",
    "capa2 =128\n",
    "clases = 10"
   ]
  },
  {
   "cell_type": "code",
   "execution_count": 23,
   "metadata": {},
   "outputs": [],
   "source": [
    "#Método para crear el modelo de la red neuronal desde cero\n",
    "def crea_modelo():\n",
    "    tf.reset_default_graph() #Si existe una grafica en memoria, hacer resetear todo para no hacer ruido\n",
    "    red = tflearn.input_data([None, entradas]) #Va a contener toda la estrucutra neuronal\n",
    "    red = tflearn.fully_connected(red, capa1, activation = 'ReLu')\n",
    "    red = tflearn.fully_connected(red, capa2, activation = 'ReLu')\n",
    "    red = tflearn.fully_connected(red, clases, activation = 'softmax') #Capa de salida, softman dice que tan probable la entrada que le dimos corresponda a alguna clase que le dimos\n",
    "    red = tflearn.regression(red, optimizer = 'sgd', learning_rate = 0.01, loss = 'categorical_crossentropy') #Alimentamos la red y la tasa de aprendizaje de 0.01\n",
    "    modelo = tflearn.DNN(red) #Lo alimentamos de nuestra red, modelo carga toda la estructura de la red que tenemos\n",
    "    return modelo"
   ]
  },
  {
   "cell_type": "code",
   "execution_count": 24,
   "metadata": {},
   "outputs": [
    {
     "name": "stdout",
     "output_type": "stream",
     "text": [
      "WARNING:tensorflow:From C:\\Users\\julio\\Anaconda3\\lib\\site-packages\\tflearn\\objectives.py:66: calling reduce_sum (from tensorflow.python.ops.math_ops) with keep_dims is deprecated and will be removed in a future version.\n",
      "Instructions for updating:\n",
      "keep_dims is deprecated, use keepdims instead\n"
     ]
    }
   ],
   "source": [
    "#Creamos nuestra variable de la función modelo\n",
    "modelo = crea_modelo()"
   ]
  },
  {
   "cell_type": "code",
   "execution_count": 25,
   "metadata": {},
   "outputs": [
    {
     "name": "stdout",
     "output_type": "stream",
     "text": [
      "Training Step: 9899  | total loss: \u001b[1m\u001b[32m0.28754\u001b[0m\u001b[0m | time: 1.734s\n",
      "| SGD | epoch: 100 | loss: 0.28754 - acc: 0.9184 -- iter: 49000/49500\n",
      "Training Step: 9900  | total loss: \u001b[1m\u001b[32m0.28882\u001b[0m\u001b[0m | time: 2.758s\n",
      "| SGD | epoch: 100 | loss: 0.28882 - acc: 0.9185 | val_loss: 0.29148 - val_acc: 0.9158 -- iter: 49500/49500\n",
      "--\n"
     ]
    }
   ],
   "source": [
    "#Hacer entender a nuestro modelo\n",
    "modelo.fit(trainx, trainy, validation_set = 0.1, show_metric=True, batch_size = 500, n_epoch =100)"
   ]
  },
  {
   "cell_type": "code",
   "execution_count": 27,
   "metadata": {},
   "outputs": [
    {
     "name": "stdout",
     "output_type": "stream",
     "text": [
      "La certeza es de:  0.9217\n"
     ]
    }
   ],
   "source": [
    "#Probarlo sobre el test de datos\n",
    "predicciones = np.array(modelo.predict(testx)).argmax(axis = 1) #Va a arrojar un arreglo para cada elemento de los testx\n",
    "correctas = testy.argmax(axis = 1) #Un arreglo en donde dirá cual es la clasificación correcta\n",
    "certeza = np.mean(predicciones == correctas, axis = 0) #Cuantas de las predicciones son bien echas\n",
    "print(\"La certeza es de: \", certeza)"
   ]
  },
  {
   "cell_type": "code",
   "execution_count": null,
   "metadata": {},
   "outputs": [],
   "source": []
  }
 ],
 "metadata": {
  "kernelspec": {
   "display_name": "Python 3",
   "language": "python",
   "name": "python3"
  },
  "language_info": {
   "codemirror_mode": {
    "name": "ipython",
    "version": 3
   },
   "file_extension": ".py",
   "mimetype": "text/x-python",
   "name": "python",
   "nbconvert_exporter": "python",
   "pygments_lexer": "ipython3",
   "version": "3.6.5"
  }
 },
 "nbformat": 4,
 "nbformat_minor": 2
}
