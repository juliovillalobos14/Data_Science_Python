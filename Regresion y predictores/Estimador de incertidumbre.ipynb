{
 "cells": [
  {
   "cell_type": "code",
   "execution_count": 1,
   "metadata": {},
   "outputs": [],
   "source": [
    "#Importación de librerias\n",
    "from sklearn.datasets import load_iris\n",
    "from sklearn.model_selection import train_test_split\n",
    "# svm --> SuportVectorMachine --> Máquina de vectores de soporte\n",
    "#Trazar un hiperplano de la data y poder clasificarla\n",
    "from sklearn import svm"
   ]
  },
  {
   "cell_type": "code",
   "execution_count": 2,
   "metadata": {},
   "outputs": [],
   "source": [
    "#Cargar en una variable el set de datos de iris\n",
    "iris = load_iris()"
   ]
  },
  {
   "cell_type": "code",
   "execution_count": 3,
   "metadata": {},
   "outputs": [],
   "source": [
    "#Dividir la data entre testing y entrenamiento\n",
    "Xe,Xt,Ye,Yt = train_test_split(iris.data, iris.target)"
   ]
  },
  {
   "cell_type": "code",
   "execution_count": 4,
   "metadata": {},
   "outputs": [],
   "source": [
    "#Asignación del algoritmo svm a la variable algoritmo\n",
    "algoritmo = svm.SVC(probability = True)"
   ]
  },
  {
   "cell_type": "code",
   "execution_count": 6,
   "metadata": {},
   "outputs": [
    {
     "data": {
      "text/plain": [
       "SVC(C=1.0, cache_size=200, class_weight=None, coef0=0.0,\n",
       "  decision_function_shape='ovr', degree=3, gamma='auto', kernel='rbf',\n",
       "  max_iter=-1, probability=True, random_state=None, shrinking=True,\n",
       "  tol=0.001, verbose=False)"
      ]
     },
     "execution_count": 6,
     "metadata": {},
     "output_type": "execute_result"
    }
   ],
   "source": [
    "#Entrenamiento del algoritmo con Xe,Ye\n",
    "algoritmo.fit(Xe,Ye)"
   ]
  },
  {
   "cell_type": "code",
   "execution_count": 7,
   "metadata": {},
   "outputs": [
    {
     "data": {
      "text/plain": [
       "array([[ 2.3827061 ,  0.82787205, -0.21057815],\n",
       "       [-0.34199852,  2.43059945,  0.91139907],\n",
       "       [ 2.38990793,  0.83058797, -0.22049591],\n",
       "       [ 2.36165876,  0.86048682, -0.22214558],\n",
       "       [ 2.39205196,  0.83251763, -0.22456959],\n",
       "       [ 2.39606519,  0.82677027, -0.22283546],\n",
       "       [ 2.38414793,  0.83365592, -0.21780385],\n",
       "       [-0.29469678,  0.85909903,  2.43559775],\n",
       "       [-0.32244668,  2.33370602,  0.98874066],\n",
       "       [-0.33357433,  2.4883794 ,  0.84519493]])"
      ]
     },
     "execution_count": 7,
     "metadata": {},
     "output_type": "execute_result"
    }
   ],
   "source": [
    "#Funciones para estimar la incertidumbre\n",
    "algoritmo.decision_function_shape = \"ovr\"\n",
    "#Nos dice que tan lejos está le punto del hiperplano que lo clasifica\n",
    "algoritmo.decision_function(Xt)[:10]"
   ]
  },
  {
   "cell_type": "code",
   "execution_count": 8,
   "metadata": {},
   "outputs": [
    {
     "data": {
      "text/plain": [
       "array([[0.95454544, 0.0227066 , 0.02274796],\n",
       "       [0.00910571, 0.96939005, 0.02150424],\n",
       "       [0.95760566, 0.02282425, 0.01957009],\n",
       "       [0.94475417, 0.03173965, 0.02350618],\n",
       "       [0.95862105, 0.02231477, 0.01906419],\n",
       "       [0.96015501, 0.0210034 , 0.0188416 ],\n",
       "       [0.95534259, 0.02354525, 0.02111216],\n",
       "       [0.01146682, 0.01003173, 0.97850145],\n",
       "       [0.01413732, 0.91466295, 0.07119973],\n",
       "       [0.0076599 , 0.98256852, 0.00977158]])"
      ]
     },
     "execution_count": 8,
     "metadata": {},
     "output_type": "execute_result"
    }
   ],
   "source": [
    "#Dice lo mismo que la función anterior pero en terminos de probabilidad\n",
    "algoritmo.predict_proba(Xt)[:10]"
   ]
  },
  {
   "cell_type": "code",
   "execution_count": 9,
   "metadata": {},
   "outputs": [
    {
     "data": {
      "text/plain": [
       "array([0, 1, 0, 0, 0, 0, 0, 2, 1, 1])"
      ]
     },
     "execution_count": 9,
     "metadata": {},
     "output_type": "execute_result"
    }
   ],
   "source": [
    "#Ver como va a predecir el algoritmo\n",
    "algoritmo.predict(Xt)[:10]"
   ]
  },
  {
   "cell_type": "code",
   "execution_count": null,
   "metadata": {},
   "outputs": [],
   "source": []
  }
 ],
 "metadata": {
  "kernelspec": {
   "display_name": "Python 3",
   "language": "python",
   "name": "python3"
  },
  "language_info": {
   "codemirror_mode": {
    "name": "ipython",
    "version": 3
   },
   "file_extension": ".py",
   "mimetype": "text/x-python",
   "name": "python",
   "nbconvert_exporter": "python",
   "pygments_lexer": "ipython3",
   "version": "3.6.5"
  }
 },
 "nbformat": 4,
 "nbformat_minor": 2
}
