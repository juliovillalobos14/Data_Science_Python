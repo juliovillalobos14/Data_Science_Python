{
 "cells": [
  {
   "cell_type": "code",
   "execution_count": 21,
   "metadata": {},
   "outputs": [],
   "source": [
    "#Cargamos librerías\n",
    "from sklearn.model_selection import train_test_split\n",
    "import pandas as pd\n",
    "#Vector svm\n",
    "from sklearn import svm"
   ]
  },
  {
   "cell_type": "code",
   "execution_count": 22,
   "metadata": {},
   "outputs": [],
   "source": [
    "#Cargar el set de datos\n",
    "data = pd.read_csv('./Flores.csv')"
   ]
  },
  {
   "cell_type": "code",
   "execution_count": 23,
   "metadata": {},
   "outputs": [],
   "source": [
    "#Asignación de las variables independientes y dependientes\n",
    "independientes = data[['caracteristica1','caracteristica2','caracteristica3','caracteristica4']]\n",
    "dependiente = data.clase"
   ]
  },
  {
   "cell_type": "code",
   "execution_count": 24,
   "metadata": {},
   "outputs": [],
   "source": [
    "#Entrenamiento y testing\n",
    "Xe,Xt,Ye,Yt = train_test_split(independientes,dependiente)"
   ]
  },
  {
   "cell_type": "code",
   "execution_count": 26,
   "metadata": {},
   "outputs": [],
   "source": [
    "#Asignación del algoritmo svm\n",
    "algoritmo = svm.SVC(probability = True)"
   ]
  },
  {
   "cell_type": "code",
   "execution_count": 28,
   "metadata": {},
   "outputs": [
    {
     "data": {
      "text/plain": [
       "SVC(C=1.0, cache_size=200, class_weight=None, coef0=0.0,\n",
       "  decision_function_shape='ovr', degree=3, gamma='auto', kernel='rbf',\n",
       "  max_iter=-1, probability=True, random_state=None, shrinking=True,\n",
       "  tol=0.001, verbose=False)"
      ]
     },
     "execution_count": 28,
     "metadata": {},
     "output_type": "execute_result"
    }
   ],
   "source": [
    "#Entrenamiento del algoritmo\n",
    "algoritmo.fit(Xe,Ye)"
   ]
  },
  {
   "cell_type": "code",
   "execution_count": 29,
   "metadata": {},
   "outputs": [
    {
     "data": {
      "text/plain": [
       "array([[-0.43099295,  2.46314127,  0.96785168],\n",
       "       [ 2.5       ,  0.79780126, -0.29780126],\n",
       "       [ 2.48289335,  0.81299189, -0.29588524],\n",
       "       [-0.48406196,  1.10986742,  2.37419454]])"
      ]
     },
     "execution_count": 29,
     "metadata": {},
     "output_type": "execute_result"
    }
   ],
   "source": [
    "#Estimación de la incertidumbre\n",
    "algoritmo.decision_function_shape = \"ovr\"\n",
    "algoritmo.decision_function(Xt)[:5]"
   ]
  },
  {
   "cell_type": "code",
   "execution_count": 30,
   "metadata": {},
   "outputs": [
    {
     "data": {
      "text/plain": [
       "array([[0.09394191, 0.73912539, 0.1669327 ],\n",
       "       [0.67396425, 0.1699503 , 0.15608545],\n",
       "       [0.66218823, 0.17867582, 0.15913595],\n",
       "       [0.07950908, 0.24070203, 0.67978889]])"
      ]
     },
     "execution_count": 30,
     "metadata": {},
     "output_type": "execute_result"
    }
   ],
   "source": [
    "#Terminos porbabilisticos\n",
    "algoritmo.predict_proba(Xt)[:5]"
   ]
  },
  {
   "cell_type": "code",
   "execution_count": 31,
   "metadata": {},
   "outputs": [
    {
     "data": {
      "text/plain": [
       "array(['versicolor', 'setosa', 'setosa', 'virginica'], dtype=object)"
      ]
     },
     "execution_count": 31,
     "metadata": {},
     "output_type": "execute_result"
    }
   ],
   "source": [
    "#Clasificación de los grupos\n",
    "algoritmo.predict(Xt)[:5]"
   ]
  },
  {
   "cell_type": "code",
   "execution_count": null,
   "metadata": {},
   "outputs": [],
   "source": []
  }
 ],
 "metadata": {
  "kernelspec": {
   "display_name": "Python 3",
   "language": "python",
   "name": "python3"
  },
  "language_info": {
   "codemirror_mode": {
    "name": "ipython",
    "version": 3
   },
   "file_extension": ".py",
   "mimetype": "text/x-python",
   "name": "python",
   "nbconvert_exporter": "python",
   "pygments_lexer": "ipython3",
   "version": "3.6.5"
  }
 },
 "nbformat": 4,
 "nbformat_minor": 2
}
