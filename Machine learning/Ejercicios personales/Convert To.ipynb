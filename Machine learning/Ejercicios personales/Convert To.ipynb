{
 "cells": [
  {
   "cell_type": "markdown",
   "metadata": {},
   "source": [
    "## Files XLS And XLSX\n",
    "\n"
   ]
  },
  {
   "cell_type": "code",
   "execution_count": 28,
   "metadata": {},
   "outputs": [],
   "source": [
    "%config IPCompleter.greedy=True\n",
    "\n",
    "#import library\n",
    "import pandas as pd\n",
    "\n",
    "#Convert files xls and xlsx to csv\n",
    "#Main\n",
    "\n",
    "mainpath = \"/Users/julio/Downloads/pythonmaster/datasets\"\n",
    "filename = \"ads/pr1.xls\"\n",
    "filenamexlsx = \"ads/pr.xlsx\""
   ]
  },
  {
   "cell_type": "code",
   "execution_count": 29,
   "metadata": {},
   "outputs": [],
   "source": [
    "#Read of files\n",
    "#you have to indicate the excel tab, how this example\n",
    "#he not need this parameter\n",
    "#ads = pd.read_excel(mainpath + \"/\" + filename, \"name_tab\")\n",
    "\n",
    "ads = pd.read_excel(mainpath + \"/\" + filename)\n",
    "ads2 = pd.read_excel(mainpath + \"/\" + filenamexlsx)\n"
   ]
  },
  {
   "cell_type": "code",
   "execution_count": 30,
   "metadata": {},
   "outputs": [],
   "source": [
    "#Convert file xls to csv\n",
    "ads.to_csv(mainpath + \"/ads/pr2.csv\")"
   ]
  },
  {
   "cell_type": "code",
   "execution_count": 32,
   "metadata": {},
   "outputs": [],
   "source": [
    "#Convert file xlsx to csv\n",
    "ads2.to_csv(mainpath + \"/ads/pr3.csv\")"
   ]
  },
  {
   "cell_type": "code",
   "execution_count": 35,
   "metadata": {},
   "outputs": [],
   "source": [
    "#Convert file csv tp xls\n",
    "#read\n",
    "ads3 = pd.read_csv(mainpath + \"/ads/Advertising.csv\")"
   ]
  },
  {
   "cell_type": "code",
   "execution_count": 36,
   "metadata": {},
   "outputs": [],
   "source": [
    "#convert\n",
    "ads3.to_excel(mainpath + \"/ads/pr3.xls\")"
   ]
  },
  {
   "cell_type": "code",
   "execution_count": 37,
   "metadata": {},
   "outputs": [],
   "source": [
    "#Convert file csv to xlsx\n",
    "ads3.to_excel(mainpath + \"/ads/pr4.xlsx\")"
   ]
  },
  {
   "cell_type": "code",
   "execution_count": 38,
   "metadata": {},
   "outputs": [],
   "source": [
    "#convert file csv to json\n",
    "ads3.to_json(mainpath + \"/ads/pr5.json\")"
   ]
  },
  {
   "cell_type": "code",
   "execution_count": 40,
   "metadata": {},
   "outputs": [],
   "source": [
    "#convert file xls to json\n",
    "ads3.to_json(mainpath + \"/ads/pr6.json\")"
   ]
  },
  {
   "cell_type": "code",
   "execution_count": 41,
   "metadata": {},
   "outputs": [],
   "source": [
    "#convert file xlsx to json\n",
    "ads3.to_json(mainpath + \"/ads/pr7.json\")"
   ]
  },
  {
   "cell_type": "code",
   "execution_count": null,
   "metadata": {},
   "outputs": [],
   "source": []
  }
 ],
 "metadata": {
  "kernelspec": {
   "display_name": "Python 3",
   "language": "python",
   "name": "python3"
  },
  "language_info": {
   "codemirror_mode": {
    "name": "ipython",
    "version": 3
   },
   "file_extension": ".py",
   "mimetype": "text/x-python",
   "name": "python",
   "nbconvert_exporter": "python",
   "pygments_lexer": "ipython3",
   "version": "3.6.5"
  }
 },
 "nbformat": 4,
 "nbformat_minor": 2
}
