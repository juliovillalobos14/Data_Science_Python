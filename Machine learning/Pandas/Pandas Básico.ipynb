{
 "cells": [
  {
   "cell_type": "code",
   "execution_count": 5,
   "metadata": {},
   "outputs": [],
   "source": [
    "#Importación de Pandas para el manejo de datos\n",
    "import pandas as pd\n",
    "#Importación de numpy para el manejo de números\n",
    "import numpy as np\n",
    "#Creación de un dataframe\n",
    "Datos = {'Nombre':['Chalio','Marisol','Yolanda','Tina'], \n",
    "         'Calificaciones': ['100','90','100','80'], \n",
    "         'Deportes': ['Futbol', 'Natación', 'Basquetbol', 'Natación'], \n",
    "         'Materias': ['Cálculo', 'Métodos Númericos','Cocina','Química']}"
   ]
  },
  {
   "cell_type": "code",
   "execution_count": 4,
   "metadata": {},
   "outputs": [
    {
     "name": "stdout",
     "output_type": "stream",
     "text": [
      "    Nombre Calificaciones    Deportes           Materias\n",
      "0   Chalio            100      Futbol            Cálculo\n",
      "1  Marisol             90    Natación  Métodos Númericos\n",
      "2  Yolanda            100  Basquetbol             Cocina\n",
      "3     Tina             80    Natación            Química\n"
     ]
    }
   ],
   "source": [
    "#Creación e impresión del dataframe\n",
    "df = pd.DataFrame(Datos)\n",
    "print(df)"
   ]
  },
  {
   "cell_type": "code",
   "execution_count": 13,
   "metadata": {},
   "outputs": [],
   "source": [
    "#Datos no válidos\n",
    "Datos2 = {'Nombre':['Chalio','Marisol','Yolanda','N/A'], \n",
    "         'Calificaciones': ['100',np.nan,'90','80'], \n",
    "         'Deportes': ['Futbol', 'Natación', 'Basquetbol', 'N/A'], \n",
    "         'Materias': ['Cálculo', 'Métodos Númericos','N/A','Química']}\n",
    "df = pd.DataFrame(Datos2)"
   ]
  },
  {
   "cell_type": "code",
   "execution_count": 8,
   "metadata": {},
   "outputs": [
    {
     "name": "stdout",
     "output_type": "stream",
     "text": [
      "    Nombre Calificaciones    Deportes           Materias\n",
      "0   Chalio            100      Futbol            Cálculo\n",
      "1  Marisol            NaN    Natación  Métodos Númericos\n",
      "2  Yolanda            100  Basquetbol                N/A\n",
      "3      N/A             80         N/A            Química\n"
     ]
    }
   ],
   "source": [
    "print(df)"
   ]
  },
  {
   "cell_type": "code",
   "execution_count": 9,
   "metadata": {},
   "outputs": [
    {
     "name": "stdout",
     "output_type": "stream",
     "text": [
      "<class 'pandas.core.frame.DataFrame'>\n",
      "RangeIndex: 4 entries, 0 to 3\n",
      "Data columns (total 4 columns):\n",
      "Nombre            4 non-null object\n",
      "Calificaciones    3 non-null object\n",
      "Deportes          4 non-null object\n",
      "Materias          4 non-null object\n",
      "dtypes: object(4)\n",
      "memory usage: 208.0+ bytes\n",
      "None\n"
     ]
    }
   ],
   "source": [
    "#Información de dataframe\n",
    "print(df.info())"
   ]
  },
  {
   "cell_type": "code",
   "execution_count": 14,
   "metadata": {
    "scrolled": false
   },
   "outputs": [
    {
     "name": "stdout",
     "output_type": "stream",
     "text": [
      "         Nombre Calificaciones Deportes Materias\n",
      "count         4              3        4        4\n",
      "unique        4              3        4        4\n",
      "top     Marisol             90   Futbol  Química\n",
      "freq          1              1        1        1\n"
     ]
    }
   ],
   "source": [
    "#Estadísticas básicas de información\n",
    "print(df.describe())"
   ]
  },
  {
   "cell_type": "code",
   "execution_count": 15,
   "metadata": {},
   "outputs": [],
   "source": [
    "#Nuevo dataframe\n",
    "nuevo = pd.DataFrame(df)\n"
   ]
  },
  {
   "cell_type": "code",
   "execution_count": 16,
   "metadata": {},
   "outputs": [],
   "source": [
    "#Instrucción para remplazar datos\n",
    "nuevo = nuevo.replace(np.nan,0)"
   ]
  },
  {
   "cell_type": "code",
   "execution_count": 17,
   "metadata": {},
   "outputs": [
    {
     "name": "stdout",
     "output_type": "stream",
     "text": [
      "    Nombre Calificaciones    Deportes           Materias\n",
      "0   Chalio            100      Futbol            Cálculo\n",
      "1  Marisol              0    Natación  Métodos Númericos\n",
      "2  Yolanda             90  Basquetbol                N/A\n",
      "3      N/A             80         N/A            Química\n"
     ]
    }
   ],
   "source": [
    "print(nuevo)"
   ]
  },
  {
   "cell_type": "code",
   "execution_count": 19,
   "metadata": {},
   "outputs": [],
   "source": [
    "nuevo2 = pd.DataFrame(df)"
   ]
  },
  {
   "cell_type": "code",
   "execution_count": null,
   "metadata": {},
   "outputs": [],
   "source": [
    "#Borrar la fila que contenga n/a"
   ]
  }
 ],
 "metadata": {
  "kernelspec": {
   "display_name": "Python 3",
   "language": "python",
   "name": "python3"
  },
  "language_info": {
   "codemirror_mode": {
    "name": "ipython",
    "version": 3
   },
   "file_extension": ".py",
   "mimetype": "text/x-python",
   "name": "python",
   "nbconvert_exporter": "python",
   "pygments_lexer": "ipython3",
   "version": "3.6.5"
  }
 },
 "nbformat": 4,
 "nbformat_minor": 2
}
