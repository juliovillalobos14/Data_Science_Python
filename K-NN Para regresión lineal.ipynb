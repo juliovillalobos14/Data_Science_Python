{
 "cells": [
  {
   "cell_type": "code",
   "execution_count": 17,
   "metadata": {},
   "outputs": [],
   "source": [
    "#Importación de las líbrerias sklearn para regresión y K-NN\n",
    "from sklearn.neighbors import KNeighborsRegressor\n",
    "from sklearn.datasets import load_boston\n",
    "from sklearn.model_selection import train_test_split\n",
    "from sklearn.linear_model import LinearRegression, Ridge"
   ]
  },
  {
   "cell_type": "code",
   "execution_count": 18,
   "metadata": {},
   "outputs": [],
   "source": [
    "#Pasamos a la variable boston el set de datos de boston\n",
    "boston = load_boston()"
   ]
  },
  {
   "cell_type": "code",
   "execution_count": 19,
   "metadata": {},
   "outputs": [
    {
     "data": {
      "text/plain": [
       "dict_keys(['data', 'target', 'feature_names', 'DESCR'])"
      ]
     },
     "execution_count": 19,
     "metadata": {},
     "output_type": "execute_result"
    }
   ],
   "source": [
    "#Mostramos las llaves del set de datos de boston\n",
    "boston.keys()"
   ]
  },
  {
   "cell_type": "code",
   "execution_count": 20,
   "metadata": {},
   "outputs": [
    {
     "data": {
      "text/plain": [
       "array([[6.3200e-03, 1.8000e+01, 2.3100e+00, ..., 1.5300e+01, 3.9690e+02,\n",
       "        4.9800e+00],\n",
       "       [2.7310e-02, 0.0000e+00, 7.0700e+00, ..., 1.7800e+01, 3.9690e+02,\n",
       "        9.1400e+00],\n",
       "       [2.7290e-02, 0.0000e+00, 7.0700e+00, ..., 1.7800e+01, 3.9283e+02,\n",
       "        4.0300e+00],\n",
       "       ...,\n",
       "       [6.0760e-02, 0.0000e+00, 1.1930e+01, ..., 2.1000e+01, 3.9690e+02,\n",
       "        5.6400e+00],\n",
       "       [1.0959e-01, 0.0000e+00, 1.1930e+01, ..., 2.1000e+01, 3.9345e+02,\n",
       "        6.4800e+00],\n",
       "       [4.7410e-02, 0.0000e+00, 1.1930e+01, ..., 2.1000e+01, 3.9690e+02,\n",
       "        7.8800e+00]])"
      ]
     },
     "execution_count": 20,
     "metadata": {},
     "output_type": "execute_result"
    }
   ],
   "source": [
    "#Mostramos toda la data de boston\n",
    "boston.data"
   ]
  },
  {
   "cell_type": "code",
   "execution_count": 21,
   "metadata": {},
   "outputs": [
    {
     "data": {
      "text/plain": [
       "(506, 13)"
      ]
     },
     "execution_count": 21,
     "metadata": {},
     "output_type": "execute_result"
    }
   ],
   "source": [
    "#Nos dice que tenemos 506 casas con 13 caracteristicas cada una\n",
    "boston.data.shape"
   ]
  },
  {
   "cell_type": "code",
   "execution_count": 22,
   "metadata": {},
   "outputs": [
    {
     "data": {
      "text/plain": [
       "(506,)"
      ]
     },
     "execution_count": 22,
     "metadata": {},
     "output_type": "execute_result"
    }
   ],
   "source": [
    "boston.target.shape"
   ]
  },
  {
   "cell_type": "code",
   "execution_count": 23,
   "metadata": {},
   "outputs": [],
   "source": [
    "#Hacemos el train_test_split con una variables para entrenar y hacer testing. \n",
    "#Para ello usaremos el boston data y las caracteristicas que serán boston.target\n",
    "x_ent, x_test, y_ent, y_test = train_test_split(boston.data, boston.target) \n"
   ]
  },
  {
   "cell_type": "code",
   "execution_count": 24,
   "metadata": {},
   "outputs": [
    {
     "data": {
      "text/plain": [
       "(379, 13)"
      ]
     },
     "execution_count": 24,
     "metadata": {},
     "output_type": "execute_result"
    }
   ],
   "source": [
    "x_ent.shape"
   ]
  },
  {
   "cell_type": "code",
   "execution_count": 25,
   "metadata": {},
   "outputs": [
    {
     "data": {
      "text/plain": [
       "(127, 13)"
      ]
     },
     "execution_count": 25,
     "metadata": {},
     "output_type": "execute_result"
    }
   ],
   "source": [
    "x_test.shape"
   ]
  },
  {
   "cell_type": "code",
   "execution_count": 26,
   "metadata": {},
   "outputs": [
    {
     "data": {
      "text/plain": [
       "array([ 8.5, 29.8, 11.3, 12.5, 26.6, 21.7, 17.8, 10.5, 34.9, 23.3, 15.3,\n",
       "        8.3, 21.6, 22.7, 10.9, 24.5, 23.1,  5. , 23.2, 12.1, 23.3, 13.3,\n",
       "       25. , 19.9, 13.3, 27.9, 21.7, 21.2, 37.6, 24.7, 12.7, 14.9, 20.1,\n",
       "       24.6, 37.9, 26.4, 14.9, 36.5, 35.1, 20.9, 27.5, 20.3, 15.6, 22.9,\n",
       "       19.4, 24.1, 19.7, 31.5, 28. , 15.2, 23.1, 33.8, 19.1, 29.4, 17.8,\n",
       "       24.1, 18.2, 21.4, 28.4, 50. , 19.5, 33.2, 23.1, 13.8, 14.5, 21.7,\n",
       "       22.1, 23.1, 29. , 16.1, 21.7, 42.3, 23.8, 48.5, 19.9, 33.1, 13.4,\n",
       "       43.8, 13.1, 19.1, 15.2, 20.9, 18.4, 28.7, 24.8, 28.6, 22.5, 44. ,\n",
       "        9.7, 31.1, 23.1, 20.3,  7.2, 18.2, 19.5, 20.4, 20.8, 22.8, 25. ,\n",
       "       13.9, 13.8,  6.3, 46.7, 26.5, 10.9, 18.7, 21.9, 22.6, 21.7, 11.8,\n",
       "       20. , 23.5, 24.8, 17.5, 21.9, 18. ,  8.3, 20.1, 31. , 29. , 20.6,\n",
       "       20.4, 32.9, 36.1, 16.2, 13.1, 25. , 29.8, 25.3, 22.8, 13.4, 32.7,\n",
       "       22.2, 20.6, 20.2, 50. , 20.5, 24.4, 15.6, 22.8, 13.1, 22.9, 15.4,\n",
       "       30.7, 19.9, 13.5, 11.7, 10.8, 16.3, 22.9, 30.1, 19.7, 11.8, 29.9,\n",
       "       24.1, 23.3, 23.8, 37.3, 14.5, 36.2, 22.6, 20.2, 22.6, 15.4, 13.5,\n",
       "       20.5, 10.2, 50. , 23.1, 14.9,  5. , 19.3, 30.5, 23.6, 19.3, 25. ,\n",
       "       26.7, 19. , 20.1, 17.9, 19.6, 14. , 20.6,  8.5, 13.4, 19.2, 23.7,\n",
       "       10.2, 18.2, 36. , 21.6, 32.5, 20.7, 21. , 22.9, 18.6, 25.1, 18.9,\n",
       "       23.4, 45.4, 10.2, 22. , 20.3, 31.5, 21.8, 13.2, 23.7, 17.7, 21. ,\n",
       "       31.6, 12.7, 13. , 23.9, 18.5, 22.3, 17.8, 34.7, 12.3, 50. , 32. ,\n",
       "       23.2, 27.5, 23.2, 26.4, 21.7, 21.1, 18.9, 15.7, 27.1, 28.1, 14.4,\n",
       "       36.2, 17.5, 37. , 21.4, 21.4, 22.3, 37.2, 21.7, 23.9, 22. , 18.4,\n",
       "       20. , 20.6, 30.8, 13.4, 13.6, 23.1, 27. , 20.5, 34.6, 19. , 13.6,\n",
       "       16.1, 27.1, 19.8, 20.6, 16.1, 38.7, 23.9, 22.6, 17.3, 22.7, 15. ,\n",
       "       11.9, 34.9,  9.5, 16.5, 19.4, 21.2, 14.8, 21.2, 23.7, 21.8, 30.1,\n",
       "        7.2, 19.4, 24.7, 25. , 11.5, 44.8, 18.5, 27.5, 19.6, 50. , 11.9,\n",
       "       16.6, 22. , 23.9, 26.6, 23.6, 18.9, 13.1,  8.4, 19.5, 33.4, 33.3,\n",
       "       24.3, 15. , 10.4, 50. , 29.1, 14.2,  5.6, 24.5, 25. , 19.4, 24.5,\n",
       "       22.4, 20. , 17.2, 17.1, 14.6, 33.1, 50. , 23.7, 18.7, 19.3, 34.9,\n",
       "       17.2, 21.5, 25.2,  8.8, 24.3, 30.3, 35.2, 22.6, 14.1, 22. , 28.7,\n",
       "       15.6, 14.1, 48.3, 21. , 13.8, 16.8, 23.9, 21.2, 17.2, 15.2, 12.7,\n",
       "        7.2, 17. , 18.5, 27.9, 21.9, 43.5, 24.7, 19.1, 16.7, 13.8, 24.8,\n",
       "        8.7, 13.8, 20.4, 17.5, 23.4, 11. , 29.1, 19.3, 17.1, 22. , 23.8,\n",
       "       32. , 18.7, 17.8, 16.7, 20.6, 20.3, 23.8, 19.4, 14.6, 30.1, 17.4,\n",
       "       22.2,  7. , 33. , 14.3, 19.3])"
      ]
     },
     "execution_count": 26,
     "metadata": {},
     "output_type": "execute_result"
    }
   ],
   "source": [
    "y_ent"
   ]
  },
  {
   "cell_type": "code",
   "execution_count": 27,
   "metadata": {},
   "outputs": [
    {
     "data": {
      "text/plain": [
       "(127,)"
      ]
     },
     "execution_count": 27,
     "metadata": {},
     "output_type": "execute_result"
    }
   ],
   "source": [
    "y_test.shape"
   ]
  },
  {
   "cell_type": "code",
   "execution_count": 67,
   "metadata": {},
   "outputs": [],
   "source": [
    "#Asignarle el vector de knn a la variable KNN\n",
    "knn =KNeighborsRegressor(n_neighbors = 2)"
   ]
  },
  {
   "cell_type": "code",
   "execution_count": 68,
   "metadata": {},
   "outputs": [
    {
     "data": {
      "text/plain": [
       "KNeighborsRegressor(algorithm='auto', leaf_size=30, metric='minkowski',\n",
       "          metric_params=None, n_jobs=1, n_neighbors=2, p=2,\n",
       "          weights='uniform')"
      ]
     },
     "execution_count": 68,
     "metadata": {},
     "output_type": "execute_result"
    }
   ],
   "source": [
    "#Usamos fit para entrenar a la variable knn\n",
    "knn.fit(x_ent, y_ent)"
   ]
  },
  {
   "cell_type": "code",
   "execution_count": 69,
   "metadata": {},
   "outputs": [
    {
     "data": {
      "text/plain": [
       "0.5731727619262457"
      ]
     },
     "execution_count": 69,
     "metadata": {},
     "output_type": "execute_result"
    }
   ],
   "source": [
    "#Vemos que también aprendió y con cuanta probabilidad puede acomodar un elemento nuevo\n",
    "knn.score(x_test, y_test)"
   ]
  },
  {
   "cell_type": "code",
   "execution_count": 70,
   "metadata": {},
   "outputs": [],
   "source": [
    "#Borramos la variable knn para no saturar la computadora y no este almacenando muchos valores\n",
    "del knn"
   ]
  },
  {
   "cell_type": "code",
   "execution_count": 71,
   "metadata": {},
   "outputs": [],
   "source": [
    "#Probamos ahora regresión lineal para ver si puede acertar mejor que knn\n",
    "rl = LinearRegression()"
   ]
  },
  {
   "cell_type": "code",
   "execution_count": 72,
   "metadata": {},
   "outputs": [
    {
     "data": {
      "text/plain": [
       "LinearRegression(copy_X=True, fit_intercept=True, n_jobs=1, normalize=False)"
      ]
     },
     "execution_count": 72,
     "metadata": {},
     "output_type": "execute_result"
    }
   ],
   "source": [
    "rl.fit(x_ent, y_ent)"
   ]
  },
  {
   "cell_type": "code",
   "execution_count": 73,
   "metadata": {},
   "outputs": [
    {
     "data": {
      "text/plain": [
       "0.7375805870759926"
      ]
     },
     "execution_count": 73,
     "metadata": {},
     "output_type": "execute_result"
    }
   ],
   "source": [
    "rl.score(x_test, y_test)"
   ]
  },
  {
   "cell_type": "code",
   "execution_count": 74,
   "metadata": {},
   "outputs": [],
   "source": [
    "del rl"
   ]
  },
  {
   "cell_type": "code",
   "execution_count": 84,
   "metadata": {},
   "outputs": [],
   "source": [
    "#Probamos con algoritmo Ridge\n",
    "ridge = Ridge(alpha = .2)"
   ]
  },
  {
   "cell_type": "code",
   "execution_count": 85,
   "metadata": {},
   "outputs": [
    {
     "data": {
      "text/plain": [
       "Ridge(alpha=0.2, copy_X=True, fit_intercept=True, max_iter=None,\n",
       "   normalize=False, random_state=None, solver='auto', tol=0.001)"
      ]
     },
     "execution_count": 85,
     "metadata": {},
     "output_type": "execute_result"
    }
   ],
   "source": [
    "ridge.fit(x_ent, y_ent)"
   ]
  },
  {
   "cell_type": "code",
   "execution_count": 86,
   "metadata": {},
   "outputs": [
    {
     "data": {
      "text/plain": [
       "0.7370639223192806"
      ]
     },
     "execution_count": 86,
     "metadata": {},
     "output_type": "execute_result"
    }
   ],
   "source": [
    "ridge.score(x_test, y_test)"
   ]
  },
  {
   "cell_type": "code",
   "execution_count": null,
   "metadata": {},
   "outputs": [],
   "source": []
  }
 ],
 "metadata": {
  "kernelspec": {
   "display_name": "Python 3",
   "language": "python",
   "name": "python3"
  },
  "language_info": {
   "codemirror_mode": {
    "name": "ipython",
    "version": 3
   },
   "file_extension": ".py",
   "mimetype": "text/x-python",
   "name": "python",
   "nbconvert_exporter": "python",
   "pygments_lexer": "ipython3",
   "version": "3.6.5"
  }
 },
 "nbformat": 4,
 "nbformat_minor": 2
}
