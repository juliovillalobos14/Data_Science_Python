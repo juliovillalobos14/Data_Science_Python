{
 "cells": [
  {
   "cell_type": "code",
   "execution_count": 23,
   "metadata": {},
   "outputs": [],
   "source": [
    "#Importación de las librerías\n",
    "import pandas as pd\n",
    "import numpy as np\n",
    "from sklearn import linear_model\n",
    "from sklearn.metrics import r2_score\n",
    "import matplotlib.pyplot as plt"
   ]
  },
  {
   "cell_type": "code",
   "execution_count": 13,
   "metadata": {},
   "outputs": [],
   "source": [
    "#Variable\n",
    "regr = linear_model.LinearRegression()"
   ]
  },
  {
   "cell_type": "code",
   "execution_count": 14,
   "metadata": {},
   "outputs": [],
   "source": [
    "#Llamada al archivo de donde se tomarán los datos\n",
    "datos = pd.read_csv('./RegrePython.csv')\n",
    "#Creación del data frame a partir de la variable que contien los datos del archivo\n",
    "df = pd.DataFrame(datos)\n",
    "x = df['x']\n",
    "y = df['y']"
   ]
  },
  {
   "cell_type": "code",
   "execution_count": 19,
   "metadata": {},
   "outputs": [
    {
     "name": "stdout",
     "output_type": "stream",
     "text": [
      "LinearRegression(copy_X=True, fit_intercept=True, n_jobs=1, normalize=False)\n",
      "[0.75]\n",
      "y = 0.7500000000000001 * x + 0.1999999999999993\n"
     ]
    }
   ],
   "source": [
    "X = x[:,np.newaxis]\n",
    "#Recta de predicción\n",
    "print(regr.fit(X,y))\n",
    "#Coeficiente de regresión lineal\n",
    "print(regr.coef_)\n",
    "#formato de la ecuación de la linea recta\n",
    "m = regr.coef_[0]\n",
    "b = regr.intercept_\n",
    "print('y = {0} * x + {1}'. format(m,b))"
   ]
  },
  {
   "cell_type": "code",
   "execution_count": 21,
   "metadata": {},
   "outputs": [
    {
     "name": "stdout",
     "output_type": "stream",
     "text": [
      "[0.95 1.7  2.45 3.2  3.95]\n",
      "Valor de r^2:  0.9135730858468678\n"
     ]
    }
   ],
   "source": [
    "#Recta de la predicción\n",
    "y_p = m * X +b\n",
    "print(regr.predict(X)[0:5])\n",
    "print(\"Valor de r^2: \", r2_score(y,y_p))"
   ]
  },
  {
   "cell_type": "code",
   "execution_count": 24,
   "metadata": {},
   "outputs": [
    {
     "data": {
      "text/plain": [
       "Text(0,0.5,'y')"
      ]
     },
     "execution_count": 24,
     "metadata": {},
     "output_type": "execute_result"
    },
    {
     "data": {
      "image/png": "[encoded data removed]",
      "text/plain": [
       "<Figure size 432x288 with 1 Axes>"
      ]
     },
     "metadata": {},
     "output_type": "display_data"
    }
   ],
   "source": [
    "#Graficación\n",
    "plt.scatter(x,y,color = 'blue')\n",
    "plt.plot(x,y_p,color = 'red')\n",
    "plt.title('Regresión lineal', fontsize = 16)\n",
    "plt.xlabel('x', fontsize = 13)\n",
    "plt.ylabel('y', fontsize = 13)\n"
   ]
  },
  {
   "cell_type": "code",
   "execution_count": null,
   "metadata": {},
   "outputs": [],
   "source": []
  }
 ],
 "metadata": {
  "kernelspec": {
   "display_name": "Python 3",
   "language": "python",
   "name": "python3"
  },
  "language_info": {
   "codemirror_mode": {
    "name": "ipython",
    "version": 3
   },
   "file_extension": ".py",
   "mimetype": "text/x-python",
   "name": "python",
   "nbconvert_exporter": "python",
   "pygments_lexer": "ipython3",
   "version": "3.6.5"
  }
 },
 "nbformat": 4,
 "nbformat_minor": 2
}
